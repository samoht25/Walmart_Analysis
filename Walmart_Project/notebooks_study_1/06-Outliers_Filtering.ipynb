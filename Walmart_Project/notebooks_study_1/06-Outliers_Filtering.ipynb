{
 "cells": [
  {
   "cell_type": "code",
   "execution_count": 1,
   "metadata": {},
   "outputs": [
    {
     "name": "stdout",
     "output_type": "stream",
     "text": [
      "/home/jovyan\n",
      "/home/jovyan/Walmart_Project\n"
     ]
    }
   ],
   "source": [
    "run src/preprocessing.ipynb"
   ]
  },
  {
   "cell_type": "markdown",
   "metadata": {},
   "source": [
    "### Remove Outliers on the training but NOT on testing dataset.\n",
    "### We approach this by using the tukey method."
   ]
  },
  {
   "cell_type": "code",
   "execution_count": 2,
   "metadata": {},
   "outputs": [],
   "source": [
    "def display_outliers(data, feature, params=1.5):\n",
    "    Q1 = np.percentile(data[feature], 25)\n",
    "    Q3 = np.percentile(data[feature], 75)\n",
    "    tukey_window = params*(np.abs(Q1-Q3))\n",
    "    less_than_Q1 = data[feature] < Q1 - tukey_window\n",
    "    greater_than_Q3 = data[feature] > Q3 + tukey_window\n",
    "    tukey_mask = (less_than_Q1 | greater_than_Q3)\n",
    "    return data[tukey_mask]"
   ]
  },
  {
   "cell_type": "code",
   "execution_count": 3,
   "metadata": {},
   "outputs": [
    {
     "name": "stdout",
     "output_type": "stream",
     "text": [
      "Size : (0, 10)\n",
      "Temperature : (275, 10)\n",
      "Fuel_Price : (0, 10)\n",
      "MarkDown1 : (150681, 10)\n",
      "MarkDown2 : (111248, 10)\n",
      "MarkDown3 : (2842, 10)\n",
      "MarkDown4 : (134967, 10)\n",
      "MarkDown5 : (151432, 10)\n",
      "CPI : (0, 10)\n",
      "Unemployment : (32114, 10)\n"
     ]
    }
   ],
   "source": [
    "for col in numeric_train_log_sc_df.columns:\n",
    "    print(\"{} : {}\".format(col, display_outliers(numeric_train_log_sc_df, col).shape))"
   ]
  },
  {
   "cell_type": "code",
   "execution_count": 4,
   "metadata": {},
   "outputs": [],
   "source": [
    "from collections import Counter\n",
    "def multiple_outliers(data, count = 2):\n",
    "    raw_outliers = []\n",
    "    for col in data:\n",
    "        outliers_df = display_outliers(data, col)\n",
    "        raw_outliers = raw_outliers + list(outliers_df.index)\n",
    "    outlier_count = Counter(raw_outliers)\n",
    "    outliers = [k for k, v in outlier_count.items() if v >= 6]\n",
    "    return outliers"
   ]
  },
  {
   "cell_type": "code",
   "execution_count": 5,
   "metadata": {},
   "outputs": [
    {
     "data": {
      "text/plain": [
       "143"
      ]
     },
     "execution_count": 5,
     "metadata": {},
     "output_type": "execute_result"
    }
   ],
   "source": [
    "outlier_counts = len(multiple_outliers(numeric_train_log_sc_df))\n",
    "outlier_counts"
   ]
  },
  {
   "cell_type": "code",
   "execution_count": 6,
   "metadata": {},
   "outputs": [
    {
     "data": {
      "text/plain": [
       "0.0003392081979267974"
      ]
     },
     "execution_count": 6,
     "metadata": {},
     "output_type": "execute_result"
    }
   ],
   "source": [
    "outlier_counts/len(numeric_train_log_sc_df)"
   ]
  },
  {
   "cell_type": "code",
   "execution_count": 7,
   "metadata": {},
   "outputs": [],
   "source": [
    "numeric_train_log_sc_out_rem_df = numeric_train_log_sc_df.drop(multiple_outliers(numeric_train_log_sc_df,6))\n",
    "numeric_train_log_gel_out_rem_df = numeric_train_log_gel_df.drop(multiple_outliers(numeric_train_log_sc_df,6))\n",
    "categorical_train_encoded_sig_out_rem_df = categorical_train_encoded_sig_df.drop(multiple_outliers(numeric_train_log_sc_df,6))"
   ]
  },
  {
   "cell_type": "code",
   "execution_count": 8,
   "metadata": {},
   "outputs": [
    {
     "data": {
      "text/plain": [
       "(421427, 10)"
      ]
     },
     "execution_count": 8,
     "metadata": {},
     "output_type": "execute_result"
    }
   ],
   "source": [
    "numeric_train_log_sc_out_rem_df.shape"
   ]
  },
  {
   "cell_type": "code",
   "execution_count": 9,
   "metadata": {},
   "outputs": [
    {
     "data": {
      "text/plain": [
       "(115064, 10)"
      ]
     },
     "execution_count": 9,
     "metadata": {},
     "output_type": "execute_result"
    }
   ],
   "source": [
    "numeric_test_log_sc_df.shape"
   ]
  },
  {
   "cell_type": "code",
   "execution_count": 10,
   "metadata": {},
   "outputs": [],
   "source": [
    "#target\n",
    "target_out_rem = target.drop(multiple_outliers(numeric_train_log_sc_df,6))"
   ]
  },
  {
   "cell_type": "code",
   "execution_count": null,
   "metadata": {},
   "outputs": [],
   "source": []
  }
 ],
 "metadata": {
  "kernelspec": {
   "display_name": "Python 3",
   "language": "python",
   "name": "python3"
  },
  "language_info": {
   "codemirror_mode": {
    "name": "ipython",
    "version": 3
   },
   "file_extension": ".py",
   "mimetype": "text/x-python",
   "name": "python",
   "nbconvert_exporter": "python",
   "pygments_lexer": "ipython3",
   "version": "3.6.3"
  }
 },
 "nbformat": 4,
 "nbformat_minor": 2
}
