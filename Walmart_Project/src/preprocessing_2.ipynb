{
 "cells": [
  {
   "cell_type": "code",
   "execution_count": 4,
   "metadata": {},
   "outputs": [
    {
     "name": "stdout",
     "output_type": "stream",
     "text": [
      "/home/jovyan\n"
     ]
    }
   ],
   "source": [
    "cd"
   ]
  },
  {
   "cell_type": "code",
   "execution_count": 5,
   "metadata": {},
   "outputs": [
    {
     "name": "stdout",
     "output_type": "stream",
     "text": [
      "/home/jovyan/Walmart_Project\n"
     ]
    }
   ],
   "source": [
    "cd \"Walmart_Project\""
   ]
  },
  {
   "cell_type": "code",
   "execution_count": 7,
   "metadata": {},
   "outputs": [],
   "source": [
    "import numpy as np\n",
    "import pandas as pd\n",
    "import scipy.stats as st\n",
    "from collections import Counter\n",
    "from sklearn.decomposition import PCA\n",
    "from sklearn.preprocessing import StandardScaler\n",
    "import seaborn as sns\n",
    "import matplotlib.pyplot as plt\n",
    "from sklearn.model_selection import train_test_split\n",
    "\n",
    "#Bring in train dataset\n",
    "train_df = pd.read_csv(\"data/train.csv\")\n",
    "\n",
    "#Date to pd.to_datetime\n",
    "train_df[\"Date\"] = pd.to_datetime(train_df[\"Date\"])\n",
    "\n",
    "#create dummies\n",
    "train_df = pd.get_dummies(train_df, columns=[\"Store\", \"Dept\"])\n",
    "\n",
    "#separate date column to dayofweekm day, month, year\n",
    "train_df['Date_dayofweek'] = train_df['Date'].dt.dayofweek\n",
    "train_df['Date_month'] = train_df['Date'].dt.month\n",
    "train_df['Date_year'] = train_df['Date'].dt.year\n",
    "train_df['Date_day'] = train_df['Date'].dt.day\n",
    "\n",
    "##create columns of sales based on 1 day, 2 days, 3 days, 5 days, 1 week, 2 weeks, 1 month\n",
    "#for days_to_lag in [1, 2, 3, 5, 7, 14, 30]:\n",
    "#    train_df['Weekly_sales_lag_{}'.format(days_to_lag)] = train_df.Weekly_Sales.shift(days_to_lag)\n",
    "\n",
    "##replace NAN values with 0\n",
    "#train_df.fillna(0, inplace=True)\n",
    "\n",
    "#create train target\n",
    "target = train_df[\"Weekly_Sales\"]\n",
    "\n",
    "#create train features\n",
    "features = train_df.drop(\"Date\", axis=1)\n",
    "features = features.drop(\"Weekly_Sales\", axis=1)"
   ]
  },
  {
   "cell_type": "code",
   "execution_count": null,
   "metadata": {},
   "outputs": [],
   "source": []
  }
 ],
 "metadata": {
  "kernelspec": {
   "display_name": "Python 3",
   "language": "python",
   "name": "python3"
  },
  "language_info": {
   "codemirror_mode": {
    "name": "ipython",
    "version": 3
   },
   "file_extension": ".py",
   "mimetype": "text/x-python",
   "name": "python",
   "nbconvert_exporter": "python",
   "pygments_lexer": "ipython3",
   "version": "3.6.3"
  }
 },
 "nbformat": 4,
 "nbformat_minor": 2
}
