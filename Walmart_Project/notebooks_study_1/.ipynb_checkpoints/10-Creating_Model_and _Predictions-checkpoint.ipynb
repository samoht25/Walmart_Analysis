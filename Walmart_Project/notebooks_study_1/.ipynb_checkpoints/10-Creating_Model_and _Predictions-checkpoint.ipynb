{
 "cells": [
  {
   "cell_type": "code",
   "execution_count": 1,
   "metadata": {
    "scrolled": true
   },
   "outputs": [
    {
     "name": "stdout",
     "output_type": "stream",
     "text": [
      "/home/jovyan\n",
      "/home/jovyan/Walmart_Project\n"
     ]
    }
   ],
   "source": [
    "run src/preprocessing.ipynb"
   ]
  },
  {
   "cell_type": "code",
   "execution_count": 6,
   "metadata": {},
   "outputs": [],
   "source": [
    "from sklearn.model_selection import GridSearchCV\n",
    "from sklearn.linear_model import Lasso, Ridge, SGDRegressor\n",
    "from sklearn.svm import LinearSVR\n",
    "from sklearn.metrics import r2_score, mean_squared_error, mean_absolute_error"
   ]
  },
  {
   "cell_type": "code",
   "execution_count": 7,
   "metadata": {},
   "outputs": [],
   "source": [
    "#List out params for these models.\n",
    "gs_param_lasso = {\n",
    "    'alpha' : np.logspace(-1,5,7)\n",
    "}\n",
    "\n",
    "gs_param_ridge = {\n",
    "    'alpha' : np.logspace(-1,5,7)\n",
    "}\n",
    "\n",
    "gs_param_sgd = {\n",
    "    'penalty' : ['l1', 'l2'],\n",
    "    'alpha' : np.logspace(-1,5,7)\n",
    "}\n",
    "\n",
    "gs_param_linear_svr = {\n",
    "    'C' : np.logspace(-5, 5, 7)\n",
    "    \n",
    "}"
   ]
  },
  {
   "cell_type": "markdown",
   "metadata": {},
   "source": [
    "### Training the Model"
   ]
  },
  {
   "cell_type": "code",
   "execution_count": 8,
   "metadata": {},
   "outputs": [],
   "source": [
    "lasso_grid_search     = GridSearchCV(Lasso(), param_grid=gs_param_lasso, n_jobs=-1)\n",
    "ridge_grid_search     = GridSearchCV(Ridge(), param_grid=gs_param_ridge, n_jobs=-1)\n",
    "sgd_grid_search       = GridSearchCV(SGDRegressor(), param_grid=gs_param_ridge, n_jobs=-1)\n",
    "linearsvr_grid_search = GridSearchCV(LinearSVR(), param_grid=gs_param_linear_svr, n_jobs=-1)"
   ]
  },
  {
   "cell_type": "code",
   "execution_count": 9,
   "metadata": {
    "scrolled": true
   },
   "outputs": [
    {
     "data": {
      "text/plain": [
       "GridSearchCV(cv=None, error_score='raise',\n",
       "       estimator=LinearSVR(C=1.0, dual=True, epsilon=0.0, fit_intercept=True,\n",
       "     intercept_scaling=1.0, loss='epsilon_insensitive', max_iter=1000,\n",
       "     random_state=None, tol=0.0001, verbose=0),\n",
       "       fit_params=None, iid=True, n_jobs=-1,\n",
       "       param_grid={'C': array([  1.00000e-05,   4.64159e-04,   2.15443e-02,   1.00000e+00,\n",
       "         4.64159e+01,   2.15443e+03,   1.00000e+05])},\n",
       "       pre_dispatch='2*n_jobs', refit=True, return_train_score='warn',\n",
       "       scoring=None, verbose=0)"
      ]
     },
     "execution_count": 9,
     "metadata": {},
     "output_type": "execute_result"
    }
   ],
   "source": [
    "lasso_grid_search.fit(trainset_2, target_2)\n",
    "ridge_grid_search.fit(trainset_2, target_2)\n",
    "sgd_grid_search.fit(trainset_2, target_2)\n",
    "linearsvr_grid_search.fit(trainset_2, target_2)"
   ]
  },
  {
   "cell_type": "code",
   "execution_count": 10,
   "metadata": {},
   "outputs": [],
   "source": [
    "best_lasso = lasso_grid_search.best_estimator_\n",
    "best_ridge = ridge_grid_search.best_estimator_\n",
    "best_sgd = sgd_grid_search.best_estimator_\n",
    "best_linearsvr = linearsvr_grid_search.best_estimator_"
   ]
  },
  {
   "cell_type": "code",
   "execution_count": 11,
   "metadata": {},
   "outputs": [
    {
     "data": {
      "text/plain": [
       "(0.033823071691495864,\n",
       " 0.029353849131208715,\n",
       " 0.02741164489626062,\n",
       " -0.086873015472740137)"
      ]
     },
     "execution_count": 11,
     "metadata": {},
     "output_type": "execute_result"
    }
   ],
   "source": [
    "(lasso_grid_search.best_score_,\n",
    " ridge_grid_search.best_score_,\n",
    " sgd_grid_search.best_score_,\n",
    " linearsvr_grid_search.best_score_)"
   ]
  },
  {
   "cell_type": "markdown",
   "metadata": {},
   "source": [
    "### Make a Prediction"
   ]
  },
  {
   "cell_type": "code",
   "execution_count": 12,
   "metadata": {},
   "outputs": [
    {
     "data": {
      "text/html": [
       "<div>\n",
       "<style scoped>\n",
       "    .dataframe tbody tr th:only-of-type {\n",
       "        vertical-align: middle;\n",
       "    }\n",
       "\n",
       "    .dataframe tbody tr th {\n",
       "        vertical-align: top;\n",
       "    }\n",
       "\n",
       "    .dataframe thead th {\n",
       "        text-align: right;\n",
       "    }\n",
       "</style>\n",
       "<table border=\"1\" class=\"dataframe\">\n",
       "  <thead>\n",
       "    <tr style=\"text-align: right;\">\n",
       "      <th></th>\n",
       "      <th>Id</th>\n",
       "      <th>Weekly_Sales</th>\n",
       "    </tr>\n",
       "  </thead>\n",
       "  <tbody>\n",
       "    <tr>\n",
       "      <th>0</th>\n",
       "      <td>1_1_2012-11-02</td>\n",
       "      <td>0</td>\n",
       "    </tr>\n",
       "    <tr>\n",
       "      <th>1</th>\n",
       "      <td>1_1_2012-11-09</td>\n",
       "      <td>0</td>\n",
       "    </tr>\n",
       "    <tr>\n",
       "      <th>2</th>\n",
       "      <td>1_1_2012-11-16</td>\n",
       "      <td>0</td>\n",
       "    </tr>\n",
       "    <tr>\n",
       "      <th>3</th>\n",
       "      <td>1_1_2012-11-23</td>\n",
       "      <td>0</td>\n",
       "    </tr>\n",
       "    <tr>\n",
       "      <th>4</th>\n",
       "      <td>1_1_2012-11-30</td>\n",
       "      <td>0</td>\n",
       "    </tr>\n",
       "  </tbody>\n",
       "</table>\n",
       "</div>"
      ],
      "text/plain": [
       "               Id  Weekly_Sales\n",
       "0  1_1_2012-11-02             0\n",
       "1  1_1_2012-11-09             0\n",
       "2  1_1_2012-11-16             0\n",
       "3  1_1_2012-11-23             0\n",
       "4  1_1_2012-11-30             0"
      ]
     },
     "execution_count": 12,
     "metadata": {},
     "output_type": "execute_result"
    }
   ],
   "source": [
    "sample_sub = pd.read_csv(\"data/sampleSubmission.csv\")\n",
    "sample_sub.head()"
   ]
  },
  {
   "cell_type": "code",
   "execution_count": 20,
   "metadata": {},
   "outputs": [],
   "source": [
    "prediction_df = pd.DataFrame()\n",
    "prediction = best_lasso.predict(testset_2)\n",
    "prediction_df[\"Id\"] = sample_sub.Id\n",
    "prediction_df[\"Weekly_Sales\"] = prediction\n",
    "prediction_df.set_index(\"Id\", inplace=True)"
   ]
  },
  {
   "cell_type": "code",
   "execution_count": 21,
   "metadata": {
    "scrolled": false
   },
   "outputs": [],
   "source": [
    "#list(prediction_df[\"Weekly_Sales\"].unique())"
   ]
  },
  {
   "cell_type": "markdown",
   "metadata": {},
   "source": [
    "## Submission"
   ]
  },
  {
   "cell_type": "code",
   "execution_count": 22,
   "metadata": {},
   "outputs": [],
   "source": [
    "prediction_df.to_csv(\"lasso_prediction.csv\")"
   ]
  },
  {
   "cell_type": "code",
   "execution_count": null,
   "metadata": {},
   "outputs": [],
   "source": [
    "# #Storing models:\n",
    "\n",
    "# from sklearn.externals import joblib\n",
    "# joblib.dump(best_lasso, 'best_lasso.p')\n",
    "\n",
    "# lasso_model = joblib.load('best_lasso.p')"
   ]
  }
 ],
 "metadata": {
  "kernelspec": {
   "display_name": "Python 3",
   "language": "python",
   "name": "python3"
  },
  "language_info": {
   "codemirror_mode": {
    "name": "ipython",
    "version": 3
   },
   "file_extension": ".py",
   "mimetype": "text/x-python",
   "name": "python",
   "nbconvert_exporter": "python",
   "pygments_lexer": "ipython3",
   "version": "3.6.3"
  }
 },
 "nbformat": 4,
 "nbformat_minor": 2
}
